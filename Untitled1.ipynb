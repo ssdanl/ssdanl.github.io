{
  "nbformat": 4,
  "nbformat_minor": 0,
  "metadata": {
    "colab": {
      "provenance": []
    },
    "kernelspec": {
      "name": "python3",
      "display_name": "Python 3"
    },
    "language_info": {
      "name": "python"
    }
  },
  "cells": [
    {
      "cell_type": "markdown",
      "source": [
        "---\n",
        "title: \"Habits\"\n",
        "author: Sophia Stang\n",
        "date: January 27, 2025\n",
        "format:\n",
        "  html\n",
        "---"
      ],
      "metadata": {
        "id": "0fVboqxwiAQ1"
      }
    },
    {
      "cell_type": "code",
      "execution_count": null,
      "metadata": {
        "id": "Ov7fgH1qh2uC"
      },
      "outputs": [],
      "source": []
    }
  ]
}